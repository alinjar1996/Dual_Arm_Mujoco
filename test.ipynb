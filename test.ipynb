{
 "cells": [
  {
   "cell_type": "code",
   "execution_count": 18,
   "id": "6041a9d6",
   "metadata": {},
   "outputs": [
    {
     "name": "stdout",
     "output_type": "stream",
     "text": [
      "Requirement already satisfied: mujoco in ./.venv/lib/python3.10/site-packages (3.3.1)\n",
      "Requirement already satisfied: absl-py in ./.venv/lib/python3.10/site-packages (from mujoco) (2.2.2)\n",
      "Requirement already satisfied: etils[epath] in ./.venv/lib/python3.10/site-packages (from mujoco) (1.12.2)\n",
      "Requirement already satisfied: glfw in ./.venv/lib/python3.10/site-packages (from mujoco) (2.9.0)\n",
      "Requirement already satisfied: numpy in ./.venv/lib/python3.10/site-packages (from mujoco) (2.2.5)\n",
      "Requirement already satisfied: pyopengl in ./.venv/lib/python3.10/site-packages (from mujoco) (3.1.9)\n",
      "Requirement already satisfied: fsspec in ./.venv/lib/python3.10/site-packages (from etils[epath]->mujoco) (2025.3.2)\n",
      "Requirement already satisfied: importlib_resources in ./.venv/lib/python3.10/site-packages (from etils[epath]->mujoco) (6.5.2)\n",
      "Requirement already satisfied: typing_extensions in ./.venv/lib/python3.10/site-packages (from etils[epath]->mujoco) (4.13.2)\n",
      "Requirement already satisfied: zipp in ./.venv/lib/python3.10/site-packages (from etils[epath]->mujoco) (3.21.0)\n"
     ]
    }
   ],
   "source": [
    "\n",
    "!pip install mujoco\n",
    "\n"
   ]
  },
  {
   "cell_type": "code",
   "execution_count": 19,
   "id": "fe8e6e01",
   "metadata": {},
   "outputs": [],
   "source": [
    "import mujoco\n",
    "import mujoco.viewer\n",
    "import os\n",
    "\n",
    "import numpy as np\n",
    "import time\n"
   ]
  },
  {
   "cell_type": "code",
   "execution_count": 30,
   "id": "cd2a4ca9",
   "metadata": {},
   "outputs": [
    {
     "name": "stdout",
     "output_type": "stream",
     "text": [
      "Viewer launched. It will close automatically in 5 seconds.\n"
     ]
    }
   ],
   "source": [
    "\n",
    "\n",
    "# Path to your MJX XML file\n",
    "xml_path = \"singlearm_panda_tray.xml\"\n",
    "\n",
    "# Load and compile the XML into a MuJoCo model\n",
    "model = mujoco.MjModel.from_xml_path(xml_path)\n",
    "data = mujoco.MjData(model)\n",
    "\n",
    "# Set a custom initial camera distance (zoom out)\n",
    "def set_camera(viewer):\n",
    "    viewer.cam.distance = 3.0\n",
    "    viewer.cam.azimuth = 0\n",
    "    viewer.cam.elevation = -90.0\n",
    "    viewer.cam.lookat[:] = np.array([0, 0, 0.5])\n",
    "\n",
    "# Launch the viewer with camera settings and timeout\n",
    "with mujoco.viewer.launch_passive(model, data) as viewer:\n",
    "    set_camera(viewer)\n",
    "    print(\"Viewer launched. It will close automatically in 5 seconds.\")\n",
    "    \n",
    "    start_time = time.time()\n",
    "    while viewer.is_running() and (time.time() - start_time) < 5:  # 5 seconds\n",
    "        mujoco.mj_step(model, data)\n",
    "        viewer.sync()\n",
    "\n",
    "\n",
    "\n",
    "# Path to your MJX XML file\n"
   ]
  },
  {
   "cell_type": "code",
   "execution_count": null,
   "id": "8ae909cb",
   "metadata": {},
   "outputs": [],
   "source": []
  }
 ],
 "metadata": {
  "kernelspec": {
   "display_name": ".venv",
   "language": "python",
   "name": "python3"
  },
  "language_info": {
   "codemirror_mode": {
    "name": "ipython",
    "version": 3
   },
   "file_extension": ".py",
   "mimetype": "text/x-python",
   "name": "python",
   "nbconvert_exporter": "python",
   "pygments_lexer": "ipython3",
   "version": "3.10.16"
  }
 },
 "nbformat": 4,
 "nbformat_minor": 5
}
